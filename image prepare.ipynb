{
 "cells": [
  {
   "cell_type": "code",
   "execution_count": 1,
   "id": "72d2a71b-6a76-47ec-b1b9-1605538bf64c",
   "metadata": {},
   "outputs": [],
   "source": [
    "import os\n",
    "from PIL import Image\n",
    "from tqdm import tqdm\n",
    "\n",
    "def extract_and_resize_tiny_imagenet_images(\n",
    "    train_folder: str,\n",
    "    output_folder: str,\n",
    "    tile_size: tuple = (32, 32),\n",
    "    max_images: int = 10000\n",
    ") -> None:\n",
    "    \"\"\"\n",
    "    Extract images from the 'images' subdirectory under each class folder in 'train/',\n",
    "    resize them, and save them into a single output folder.\n",
    "    Images are renamed sequentially as 00000.jpg, 00001.jpg, ...\n",
    "    \"\"\"\n",
    "    os.makedirs(output_folder, exist_ok=True)\n",
    "    image_paths = []\n",
    "\n",
    "    # Traverse all subdirectories under the train folder\n",
    "    for subdir in os.listdir(train_folder):\n",
    "        image_dir = os.path.join(train_folder, subdir, \"images\")\n",
    "        if os.path.isdir(image_dir):\n",
    "            for fname in os.listdir(image_dir):\n",
    "                if fname.lower().endswith((\".jpg\", \".jpeg\", \".png\")):\n",
    "                    image_paths.append(os.path.join(image_dir, fname))\n",
    "\n",
    "    # Limit the number of images\n",
    "    image_paths = image_paths[:max_images]\n",
    "    print(f\"🔍 Found {len(image_paths)} images. Starting processing...\")\n",
    "\n",
    "    for idx, path in enumerate(tqdm(image_paths, desc=\"Resizing images\")):\n",
    "        try:\n",
    "            img = Image.open(path).convert(\"RGB\")\n",
    "            img = img.resize(tile_size, Image.BILINEAR)\n",
    "            save_path = os.path.join(output_folder, f\"{idx:05d}.jpg\")\n",
    "            img.save(save_path)\n",
    "        except Exception:\n",
    "            continue\n",
    "\n",
    "    print(f\"✅ Successfully saved {idx + 1} images to: {output_folder}\")\n"
   ]
  },
  {
   "cell_type": "code",
   "execution_count": 2,
   "id": "0efe84e7-5778-420d-b16c-8818e3c4dea4",
   "metadata": {},
   "outputs": [
    {
     "name": "stdout",
     "output_type": "stream",
     "text": [
      "🔍 Found 50000 images. Starting processing...\n"
     ]
    },
    {
     "name": "stderr",
     "output_type": "stream",
     "text": [
      "Resizing images: 100%|██████████████████| 50000/50000 [00:13<00:00, 3713.79it/s]"
     ]
    },
    {
     "name": "stdout",
     "output_type": "stream",
     "text": [
      "✅ Successfully saved 50000 images to: resized_tiles\n"
     ]
    },
    {
     "name": "stderr",
     "output_type": "stream",
     "text": [
      "\n"
     ]
    }
   ],
   "source": [
    "extract_and_resize_tiny_imagenet_images(\n",
    "    train_folder=\"tiny-imagenet-200/train\",\n",
    "    output_folder=\"resized_tiles\",\n",
    "    tile_size=(32, 32),\n",
    "    max_images=50000\n",
    ")\n"
   ]
  }
 ],
 "metadata": {
  "kernelspec": {
   "display_name": "Python 3 (ipykernel)",
   "language": "python",
   "name": "python3"
  },
  "language_info": {
   "codemirror_mode": {
    "name": "ipython",
    "version": 3
   },
   "file_extension": ".py",
   "mimetype": "text/x-python",
   "name": "python",
   "nbconvert_exporter": "python",
   "pygments_lexer": "ipython3",
   "version": "3.12.2"
  }
 },
 "nbformat": 4,
 "nbformat_minor": 5
}
