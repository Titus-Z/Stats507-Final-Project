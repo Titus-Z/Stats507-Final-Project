{
 "cells": [
  {
   "cell_type": "code",
   "execution_count": 2,
   "id": "212ebb0a-7c85-4b24-b969-e74e0ee09613",
   "metadata": {},
   "outputs": [],
   "source": [
    "import os\n",
    "import time\n",
    "import pickle\n",
    "from typing import Dict, List\n",
    "import pandas as pd\n",
    "from PIL import Image\n",
    "from IPython.display import display\n",
    "from itertools import product\n",
    "\n",
    "from mosaic_pipeline import *\n",
    "from evaluator import *"
   ]
  },
  {
   "cell_type": "code",
   "execution_count": 3,
   "id": "14c53a0c-ad64-48ba-9a40-80fdf48f024d",
   "metadata": {},
   "outputs": [
    {
     "name": "stderr",
     "output_type": "stream",
     "text": [
      "Extracting features with combined: 100%|█| 50000/50000 [01:11<00:00, 697.63it/s]\n",
      "Extracting tile features (combined): 100%|█| 17304/17304 [00:23<00:00, 751.49it/\n",
      "Reconstructing mosaic: 100%|███████████| 17304/17304 [00:00<00:00, 18513.78it/s]\n"
     ]
    },
    {
     "name": "stdout",
     "output_type": "stream",
     "text": [
      "Setting up [LPIPS] perceptual loss: trunk [alex], v[0.1], spatial [off]\n"
     ]
    },
    {
     "name": "stderr",
     "output_type": "stream",
     "text": [
      "/opt/anaconda3/lib/python3.12/site-packages/torchvision/models/_utils.py:208: UserWarning: The parameter 'pretrained' is deprecated since 0.13 and may be removed in the future, please use 'weights' instead.\n",
      "  warnings.warn(\n",
      "/opt/anaconda3/lib/python3.12/site-packages/torchvision/models/_utils.py:223: UserWarning: Arguments other than a weight enum or `None` for 'weights' are deprecated since 0.13 and may be removed in the future. The current behavior is equivalent to passing `weights=AlexNet_Weights.IMAGENET1K_V1`. You can also use `weights=AlexNet_Weights.DEFAULT` to get the most up-to-date weights.\n",
      "  warnings.warn(msg)\n"
     ]
    },
    {
     "name": "stdout",
     "output_type": "stream",
     "text": [
      "Loading model from: /opt/anaconda3/lib/python3.12/site-packages/lpips/weights/v0.1/alex.pth\n"
     ]
    },
    {
     "name": "stderr",
     "output_type": "stream",
     "text": [
      "Extracting features with combined: 100%|█| 50000/50000 [01:33<00:00, 534.70it/s]\n",
      "Extracting tile features (combined): 100%|█| 17304/17304 [00:42<00:00, 406.19it/\n",
      "Reconstructing mosaic: 100%|███████████| 17304/17304 [00:00<00:00, 19642.34it/s]\n"
     ]
    },
    {
     "name": "stdout",
     "output_type": "stream",
     "text": [
      "Setting up [LPIPS] perceptual loss: trunk [alex], v[0.1], spatial [off]\n"
     ]
    },
    {
     "name": "stderr",
     "output_type": "stream",
     "text": [
      "/opt/anaconda3/lib/python3.12/site-packages/torchvision/models/_utils.py:208: UserWarning: The parameter 'pretrained' is deprecated since 0.13 and may be removed in the future, please use 'weights' instead.\n",
      "  warnings.warn(\n",
      "/opt/anaconda3/lib/python3.12/site-packages/torchvision/models/_utils.py:223: UserWarning: Arguments other than a weight enum or `None` for 'weights' are deprecated since 0.13 and may be removed in the future. The current behavior is equivalent to passing `weights=AlexNet_Weights.IMAGENET1K_V1`. You can also use `weights=AlexNet_Weights.DEFAULT` to get the most up-to-date weights.\n",
      "  warnings.warn(msg)\n"
     ]
    },
    {
     "name": "stdout",
     "output_type": "stream",
     "text": [
      "Loading model from: /opt/anaconda3/lib/python3.12/site-packages/lpips/weights/v0.1/alex.pth\n"
     ]
    },
    {
     "name": "stderr",
     "output_type": "stream",
     "text": [
      "Extracting features with combined: 100%|█| 50000/50000 [00:26<00:00, 1866.56it/s\n",
      "Extracting tile features (combined): 100%|█| 17304/17304 [00:09<00:00, 1740.73it\n",
      "Reconstructing mosaic: 100%|███████████| 17304/17304 [00:00<00:00, 21365.13it/s]\n"
     ]
    },
    {
     "name": "stdout",
     "output_type": "stream",
     "text": [
      "Setting up [LPIPS] perceptual loss: trunk [alex], v[0.1], spatial [off]\n"
     ]
    },
    {
     "name": "stderr",
     "output_type": "stream",
     "text": [
      "/opt/anaconda3/lib/python3.12/site-packages/torchvision/models/_utils.py:208: UserWarning: The parameter 'pretrained' is deprecated since 0.13 and may be removed in the future, please use 'weights' instead.\n",
      "  warnings.warn(\n",
      "/opt/anaconda3/lib/python3.12/site-packages/torchvision/models/_utils.py:223: UserWarning: Arguments other than a weight enum or `None` for 'weights' are deprecated since 0.13 and may be removed in the future. The current behavior is equivalent to passing `weights=AlexNet_Weights.IMAGENET1K_V1`. You can also use `weights=AlexNet_Weights.DEFAULT` to get the most up-to-date weights.\n",
      "  warnings.warn(msg)\n"
     ]
    },
    {
     "name": "stdout",
     "output_type": "stream",
     "text": [
      "Loading model from: /opt/anaconda3/lib/python3.12/site-packages/lpips/weights/v0.1/alex.pth\n"
     ]
    },
    {
     "name": "stderr",
     "output_type": "stream",
     "text": [
      "Extracting features with combined: 100%|█| 50000/50000 [00:59<00:00, 836.52it/s]\n",
      "Extracting tile features (combined): 100%|█| 17304/17304 [00:19<00:00, 870.29it/\n",
      "Reconstructing mosaic: 100%|███████████| 17304/17304 [00:00<00:00, 17703.39it/s]\n"
     ]
    },
    {
     "name": "stdout",
     "output_type": "stream",
     "text": [
      "Setting up [LPIPS] perceptual loss: trunk [alex], v[0.1], spatial [off]\n"
     ]
    },
    {
     "name": "stderr",
     "output_type": "stream",
     "text": [
      "/opt/anaconda3/lib/python3.12/site-packages/torchvision/models/_utils.py:208: UserWarning: The parameter 'pretrained' is deprecated since 0.13 and may be removed in the future, please use 'weights' instead.\n",
      "  warnings.warn(\n",
      "/opt/anaconda3/lib/python3.12/site-packages/torchvision/models/_utils.py:223: UserWarning: Arguments other than a weight enum or `None` for 'weights' are deprecated since 0.13 and may be removed in the future. The current behavior is equivalent to passing `weights=AlexNet_Weights.IMAGENET1K_V1`. You can also use `weights=AlexNet_Weights.DEFAULT` to get the most up-to-date weights.\n",
      "  warnings.warn(msg)\n"
     ]
    },
    {
     "name": "stdout",
     "output_type": "stream",
     "text": [
      "Loading model from: /opt/anaconda3/lib/python3.12/site-packages/lpips/weights/v0.1/alex.pth\n"
     ]
    },
    {
     "name": "stderr",
     "output_type": "stream",
     "text": [
      "Extracting features with combined: 100%|█| 50000/50000 [00:35<00:00, 1397.81it/s\n",
      "Extracting tile features (combined): 100%|█| 17304/17304 [00:13<00:00, 1297.47it\n",
      "Reconstructing mosaic: 100%|███████████| 17304/17304 [00:00<00:00, 21045.54it/s]\n"
     ]
    },
    {
     "name": "stdout",
     "output_type": "stream",
     "text": [
      "Setting up [LPIPS] perceptual loss: trunk [alex], v[0.1], spatial [off]\n"
     ]
    },
    {
     "name": "stderr",
     "output_type": "stream",
     "text": [
      "/opt/anaconda3/lib/python3.12/site-packages/torchvision/models/_utils.py:208: UserWarning: The parameter 'pretrained' is deprecated since 0.13 and may be removed in the future, please use 'weights' instead.\n",
      "  warnings.warn(\n",
      "/opt/anaconda3/lib/python3.12/site-packages/torchvision/models/_utils.py:223: UserWarning: Arguments other than a weight enum or `None` for 'weights' are deprecated since 0.13 and may be removed in the future. The current behavior is equivalent to passing `weights=AlexNet_Weights.IMAGENET1K_V1`. You can also use `weights=AlexNet_Weights.DEFAULT` to get the most up-to-date weights.\n",
      "  warnings.warn(msg)\n"
     ]
    },
    {
     "name": "stdout",
     "output_type": "stream",
     "text": [
      "Loading model from: /opt/anaconda3/lib/python3.12/site-packages/lpips/weights/v0.1/alex.pth\n"
     ]
    },
    {
     "name": "stderr",
     "output_type": "stream",
     "text": [
      "Extracting features with combined: 100%|█| 50000/50000 [02:07<00:00, 392.39it/s]\n",
      "Extracting tile features (combined): 100%|█| 17304/17304 [01:03<00:00, 273.84it/\n",
      "Reconstructing mosaic: 100%|███████████| 17304/17304 [00:00<00:00, 21174.58it/s]\n"
     ]
    },
    {
     "name": "stdout",
     "output_type": "stream",
     "text": [
      "Setting up [LPIPS] perceptual loss: trunk [alex], v[0.1], spatial [off]\n"
     ]
    },
    {
     "name": "stderr",
     "output_type": "stream",
     "text": [
      "/opt/anaconda3/lib/python3.12/site-packages/torchvision/models/_utils.py:208: UserWarning: The parameter 'pretrained' is deprecated since 0.13 and may be removed in the future, please use 'weights' instead.\n",
      "  warnings.warn(\n",
      "/opt/anaconda3/lib/python3.12/site-packages/torchvision/models/_utils.py:223: UserWarning: Arguments other than a weight enum or `None` for 'weights' are deprecated since 0.13 and may be removed in the future. The current behavior is equivalent to passing `weights=AlexNet_Weights.IMAGENET1K_V1`. You can also use `weights=AlexNet_Weights.DEFAULT` to get the most up-to-date weights.\n",
      "  warnings.warn(msg)\n"
     ]
    },
    {
     "name": "stdout",
     "output_type": "stream",
     "text": [
      "Loading model from: /opt/anaconda3/lib/python3.12/site-packages/lpips/weights/v0.1/alex.pth\n"
     ]
    },
    {
     "name": "stderr",
     "output_type": "stream",
     "text": [
      "Extracting features with combined: 100%|█| 50000/50000 [01:02<00:00, 794.91it/s]\n",
      "Extracting tile features (combined): 100%|█| 17304/17304 [00:19<00:00, 866.19it/\n",
      "Reconstructing mosaic: 100%|███████████| 17304/17304 [00:00<00:00, 17914.66it/s]\n"
     ]
    },
    {
     "name": "stdout",
     "output_type": "stream",
     "text": [
      "Setting up [LPIPS] perceptual loss: trunk [alex], v[0.1], spatial [off]\n"
     ]
    },
    {
     "name": "stderr",
     "output_type": "stream",
     "text": [
      "/opt/anaconda3/lib/python3.12/site-packages/torchvision/models/_utils.py:208: UserWarning: The parameter 'pretrained' is deprecated since 0.13 and may be removed in the future, please use 'weights' instead.\n",
      "  warnings.warn(\n",
      "/opt/anaconda3/lib/python3.12/site-packages/torchvision/models/_utils.py:223: UserWarning: Arguments other than a weight enum or `None` for 'weights' are deprecated since 0.13 and may be removed in the future. The current behavior is equivalent to passing `weights=AlexNet_Weights.IMAGENET1K_V1`. You can also use `weights=AlexNet_Weights.DEFAULT` to get the most up-to-date weights.\n",
      "  warnings.warn(msg)\n"
     ]
    },
    {
     "name": "stdout",
     "output_type": "stream",
     "text": [
      "Loading model from: /opt/anaconda3/lib/python3.12/site-packages/lpips/weights/v0.1/alex.pth\n",
      "             run                                        weights      SSIM  \\\n",
      "1  experiment_01                                 {'w_cnn': 1.0}  0.422742   \n",
      "2  experiment_02                               {'w_color': 1.0}  0.411695   \n",
      "6  experiment_06                 {'w_hog': 0.1, 'w_color': 0.9}  0.407605   \n",
      "4  experiment_04                {'w_edge': 0.3, 'w_color': 0.7}  0.407246   \n",
      "0  experiment_00  {'w_color': 0.6, 'w_hog': 0.3, 'w_edge': 0.1}  0.399893   \n",
      "5  experiment_05                 {'w_cnn': 0.5, 'w_color': 0.5}  0.391156   \n",
      "3  experiment_03                 {'w_hog': 0.5, 'w_color': 0.5}  0.385560   \n",
      "\n",
      "     time  \n",
      "1  142.25  \n",
      "2   42.75  \n",
      "6   93.52  \n",
      "4   54.82  \n",
      "0  106.73  \n",
      "5  197.12  \n",
      "3   89.01  \n"
     ]
    }
   ],
   "source": [
    "\n",
    "# Define a set of feature weight combinations to evaluate\n",
    "feature_combinations = [\n",
    "    {\"w_color\": 0.6, \"w_hog\": 0.3, \"w_edge\": 0.1},      # HOG + Color + Edge\n",
    "    {\"w_cnn\": 1.0},                                    # Pure CNN\n",
    "    {\"w_color\": 1.0},                                  # Pure Color Histogram\n",
    "    {\"w_hog\": 0.5, \"w_color\": 0.5},                    # HOG + Color\n",
    "    {\"w_edge\": 0.3, \"w_color\": 0.7},                   # Edge + Color \n",
    "    {\"w_cnn\": 0.5, \"w_color\": 0.5},                    # CNN + Color\n",
    "    {\"w_hog\": 0.1, \"w_color\": 0.9}                     # Low HOG + High Color \n",
    "]\n",
    "\n",
    "# Prepare result storage\n",
    "results = []\n",
    "\n",
    "# Configuration\n",
    "image_path = \"000145.jpg\"                  # Replace with actual main image path\n",
    "gallery_image_folder = \"resized_tiles\"  # Replace with actual folder\n",
    "tile_size = 32\n",
    "output_dir = \"exp_outputs\"\n",
    "os.makedirs(output_dir, exist_ok=True)\n",
    "\n",
    "# Loop over all combinations and evaluate\n",
    "for i, weights in enumerate(feature_combinations):\n",
    "    run_name = f\"experiment_{i:02d}\"\n",
    "    start_time = time.time()\n",
    "\n",
    "    try:\n",
    "        score, norm_weights = evaluate_weights(\n",
    "            weights=weights,\n",
    "            image_path=image_path,\n",
    "            gallery_image_folder=gallery_image_folder,\n",
    "            tile_size=tile_size,\n",
    "            output_dir=output_dir,\n",
    "            run_name=run_name\n",
    "        )\n",
    "\n",
    "        duration = time.time() - start_time\n",
    "        results.append({\n",
    "            \"run\": run_name,\n",
    "            \"weights\": norm_weights,\n",
    "            \"SSIM\": score,\n",
    "            \"time\": round(duration, 2)\n",
    "        })\n",
    "\n",
    "    except Exception as e:\n",
    "        results.append({\n",
    "            \"run\": run_name,\n",
    "            \"weights\": weights,\n",
    "            \"SSIM\": None,\n",
    "            \"time\": None,\n",
    "            \"error\": str(e)\n",
    "        })\n",
    "\n",
    "# Display results\n",
    "df = pd.DataFrame(results)\n",
    "df.sort_values(by=\"SSIM\", ascending=False, inplace=True)\n",
    "print(df)\n",
    "\n"
   ]
  },
  {
   "cell_type": "code",
   "execution_count": null,
   "id": "451851b7-453e-48dc-b207-2ea55ed0851a",
   "metadata": {},
   "outputs": [],
   "source": []
  },
  {
   "cell_type": "code",
   "execution_count": null,
   "id": "85cb8075-c656-4c39-9507-e752116bcfd0",
   "metadata": {},
   "outputs": [],
   "source": []
  }
 ],
 "metadata": {
  "kernelspec": {
   "display_name": "Python 3 (ipykernel)",
   "language": "python",
   "name": "python3"
  },
  "language_info": {
   "codemirror_mode": {
    "name": "ipython",
    "version": 3
   },
   "file_extension": ".py",
   "mimetype": "text/x-python",
   "name": "python",
   "nbconvert_exporter": "python",
   "pygments_lexer": "ipython3",
   "version": "3.12.2"
  }
 },
 "nbformat": 4,
 "nbformat_minor": 5
}
