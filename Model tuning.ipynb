{
 "cells": [
  {
   "cell_type": "code",
   "execution_count": 1,
   "id": "1f27c53f-4e2e-4ff5-934a-3e6e68b575f8",
   "metadata": {},
   "outputs": [],
   "source": [
    "from mosaic_pipeline import *\n",
    "from evaluator import *"
   ]
  },
  {
   "cell_type": "code",
   "execution_count": 2,
   "id": "ed481150-11ae-4cb5-809f-9cf13263f073",
   "metadata": {},
   "outputs": [],
   "source": [
    "weights_list = [\n",
    "    {\"w_cnn\": 1.0},                                     # pure CNN\n",
    "    {\"w_cnn\": 0.8, \"w_color\": 0.2},                     # CNN + color\n",
    "    {\"w_cnn\": 0.7, \"w_hog\": 0.3},                       # CNN + hog\n",
    "    {\"w_cnn\": 0.6, \"w_color\": 0.2, \"w_edge\": 0.2},      # CNN + color + edge\n",
    "    {\"w_color\": 0.4, \"w_hog\": 0.4, \"w_cnn\": 0.2},       # hog + color + cnn\n",
    "    {\"w_cnn\": 0.5, \"w_color\": 0.3, \"w_edge\": 0.2},      # fusion\n",
    "    {\"w_color\": 0.6, \"w_cnn\": 0.4},                     # color + CNN\n",
    "    {\"w_cnn\": 0.3, \"w_edge\": 0.7},                      # CNN + edge\n",
    "    {\"w_cnn\": 0.3, \"w_hog\": 0.4, \"w_color\": 0.3},       # fusion of CNN hog and color\n",
    "]\n"
   ]
  },
  {
   "cell_type": "code",
   "execution_count": 3,
   "id": "dc78b3cf-d2fd-4f4d-9c5c-2b6ea81115dc",
   "metadata": {},
   "outputs": [],
   "source": [
    "def run_custom_grid(weights_list, **kwargs):\n",
    "    for i, weights in enumerate(weights_list):\n",
    "        run_name = f\"tune2_exp_{i:02d}\"\n",
    "        try:\n",
    "            score, norm_weights = evaluate_weights(\n",
    "                weights=weights,\n",
    "                run_name=run_name,\n",
    "                **kwargs\n",
    "            )\n",
    "            print(f\"{run_name}: SSIM={score:.4f} | Weights={norm_weights}\")\n",
    "        except Exception as e:\n",
    "            print(f\"{run_name} Failed: {e}\")\n"
   ]
  },
  {
   "cell_type": "code",
   "execution_count": 4,
   "id": "db098c38-7c9b-4737-b547-b2eb1a5d5335",
   "metadata": {},
   "outputs": [
    {
     "name": "stderr",
     "output_type": "stream",
     "text": [
      "Extracting features with combined: 100%|█| 50000/50000 [01:16<00:00, 656.28it/s]\n",
      "Extracting tile features (combined): 100%|█| 17304/17304 [00:31<00:00, 558.04it/\n",
      "Reconstructing mosaic: 100%|███████████| 17304/17304 [00:00<00:00, 20977.19it/s]\n"
     ]
    },
    {
     "name": "stdout",
     "output_type": "stream",
     "text": [
      "Setting up [LPIPS] perceptual loss: trunk [alex], v[0.1], spatial [off]\n"
     ]
    },
    {
     "name": "stderr",
     "output_type": "stream",
     "text": [
      "/opt/anaconda3/lib/python3.12/site-packages/torchvision/models/_utils.py:208: UserWarning: The parameter 'pretrained' is deprecated since 0.13 and may be removed in the future, please use 'weights' instead.\n",
      "  warnings.warn(\n",
      "/opt/anaconda3/lib/python3.12/site-packages/torchvision/models/_utils.py:223: UserWarning: Arguments other than a weight enum or `None` for 'weights' are deprecated since 0.13 and may be removed in the future. The current behavior is equivalent to passing `weights=AlexNet_Weights.IMAGENET1K_V1`. You can also use `weights=AlexNet_Weights.DEFAULT` to get the most up-to-date weights.\n",
      "  warnings.warn(msg)\n"
     ]
    },
    {
     "name": "stdout",
     "output_type": "stream",
     "text": [
      "Loading model from: /opt/anaconda3/lib/python3.12/site-packages/lpips/weights/v0.1/alex.pth\n",
      "tune2_exp_00: SSIM=0.4227 | Weights={'w_cnn': 1.0}\n"
     ]
    },
    {
     "name": "stderr",
     "output_type": "stream",
     "text": [
      "Extracting features with combined: 100%|█| 50000/50000 [02:09<00:00, 386.30it/s]\n",
      "Extracting tile features (combined): 100%|█| 17304/17304 [00:47<00:00, 361.47it/\n",
      "Reconstructing mosaic: 100%|███████████| 17304/17304 [00:00<00:00, 21270.37it/s]\n"
     ]
    },
    {
     "name": "stdout",
     "output_type": "stream",
     "text": [
      "Setting up [LPIPS] perceptual loss: trunk [alex], v[0.1], spatial [off]\n"
     ]
    },
    {
     "name": "stderr",
     "output_type": "stream",
     "text": [
      "/opt/anaconda3/lib/python3.12/site-packages/torchvision/models/_utils.py:208: UserWarning: The parameter 'pretrained' is deprecated since 0.13 and may be removed in the future, please use 'weights' instead.\n",
      "  warnings.warn(\n",
      "/opt/anaconda3/lib/python3.12/site-packages/torchvision/models/_utils.py:223: UserWarning: Arguments other than a weight enum or `None` for 'weights' are deprecated since 0.13 and may be removed in the future. The current behavior is equivalent to passing `weights=AlexNet_Weights.IMAGENET1K_V1`. You can also use `weights=AlexNet_Weights.DEFAULT` to get the most up-to-date weights.\n",
      "  warnings.warn(msg)\n"
     ]
    },
    {
     "name": "stdout",
     "output_type": "stream",
     "text": [
      "Loading model from: /opt/anaconda3/lib/python3.12/site-packages/lpips/weights/v0.1/alex.pth\n",
      "tune2_exp_01: SSIM=0.4026 | Weights={'w_cnn': 0.8, 'w_color': 0.2}\n"
     ]
    },
    {
     "name": "stderr",
     "output_type": "stream",
     "text": [
      "Extracting features with combined: 100%|█| 50000/50000 [02:32<00:00, 328.93it/s]\n",
      "Extracting tile features (combined): 100%|█| 17304/17304 [00:52<00:00, 326.53it/\n",
      "Reconstructing mosaic: 100%|███████████| 17304/17304 [00:00<00:00, 18793.73it/s]\n"
     ]
    },
    {
     "name": "stdout",
     "output_type": "stream",
     "text": [
      "Setting up [LPIPS] perceptual loss: trunk [alex], v[0.1], spatial [off]\n"
     ]
    },
    {
     "name": "stderr",
     "output_type": "stream",
     "text": [
      "/opt/anaconda3/lib/python3.12/site-packages/torchvision/models/_utils.py:208: UserWarning: The parameter 'pretrained' is deprecated since 0.13 and may be removed in the future, please use 'weights' instead.\n",
      "  warnings.warn(\n",
      "/opt/anaconda3/lib/python3.12/site-packages/torchvision/models/_utils.py:223: UserWarning: Arguments other than a weight enum or `None` for 'weights' are deprecated since 0.13 and may be removed in the future. The current behavior is equivalent to passing `weights=AlexNet_Weights.IMAGENET1K_V1`. You can also use `weights=AlexNet_Weights.DEFAULT` to get the most up-to-date weights.\n",
      "  warnings.warn(msg)\n"
     ]
    },
    {
     "name": "stdout",
     "output_type": "stream",
     "text": [
      "Loading model from: /opt/anaconda3/lib/python3.12/site-packages/lpips/weights/v0.1/alex.pth\n",
      "tune2_exp_02: SSIM=0.4203 | Weights={'w_cnn': 0.7, 'w_hog': 0.3}\n"
     ]
    },
    {
     "name": "stderr",
     "output_type": "stream",
     "text": [
      "Extracting features with combined: 100%|█| 50000/50000 [02:55<00:00, 285.44it/s]\n",
      "Extracting tile features (combined): 100%|█| 17304/17304 [01:05<00:00, 263.48it/\n",
      "Reconstructing mosaic: 100%|███████████| 17304/17304 [00:00<00:00, 21126.27it/s]\n"
     ]
    },
    {
     "name": "stdout",
     "output_type": "stream",
     "text": [
      "Setting up [LPIPS] perceptual loss: trunk [alex], v[0.1], spatial [off]\n"
     ]
    },
    {
     "name": "stderr",
     "output_type": "stream",
     "text": [
      "/opt/anaconda3/lib/python3.12/site-packages/torchvision/models/_utils.py:208: UserWarning: The parameter 'pretrained' is deprecated since 0.13 and may be removed in the future, please use 'weights' instead.\n",
      "  warnings.warn(\n",
      "/opt/anaconda3/lib/python3.12/site-packages/torchvision/models/_utils.py:223: UserWarning: Arguments other than a weight enum or `None` for 'weights' are deprecated since 0.13 and may be removed in the future. The current behavior is equivalent to passing `weights=AlexNet_Weights.IMAGENET1K_V1`. You can also use `weights=AlexNet_Weights.DEFAULT` to get the most up-to-date weights.\n",
      "  warnings.warn(msg)\n"
     ]
    },
    {
     "name": "stdout",
     "output_type": "stream",
     "text": [
      "Loading model from: /opt/anaconda3/lib/python3.12/site-packages/lpips/weights/v0.1/alex.pth\n",
      "tune2_exp_03: SSIM=0.3998 | Weights={'w_cnn': 0.6, 'w_color': 0.2, 'w_edge': 0.2}\n"
     ]
    },
    {
     "name": "stderr",
     "output_type": "stream",
     "text": [
      "Extracting features with combined: 100%|█| 50000/50000 [03:44<00:00, 222.38it/s]\n",
      "Extracting tile features (combined): 100%|█| 17304/17304 [01:17<00:00, 222.33it/\n",
      "Reconstructing mosaic: 100%|███████████| 17304/17304 [00:01<00:00, 13542.87it/s]\n"
     ]
    },
    {
     "name": "stdout",
     "output_type": "stream",
     "text": [
      "Setting up [LPIPS] perceptual loss: trunk [alex], v[0.1], spatial [off]\n"
     ]
    },
    {
     "name": "stderr",
     "output_type": "stream",
     "text": [
      "/opt/anaconda3/lib/python3.12/site-packages/torchvision/models/_utils.py:208: UserWarning: The parameter 'pretrained' is deprecated since 0.13 and may be removed in the future, please use 'weights' instead.\n",
      "  warnings.warn(\n",
      "/opt/anaconda3/lib/python3.12/site-packages/torchvision/models/_utils.py:223: UserWarning: Arguments other than a weight enum or `None` for 'weights' are deprecated since 0.13 and may be removed in the future. The current behavior is equivalent to passing `weights=AlexNet_Weights.IMAGENET1K_V1`. You can also use `weights=AlexNet_Weights.DEFAULT` to get the most up-to-date weights.\n",
      "  warnings.warn(msg)\n"
     ]
    },
    {
     "name": "stdout",
     "output_type": "stream",
     "text": [
      "Loading model from: /opt/anaconda3/lib/python3.12/site-packages/lpips/weights/v0.1/alex.pth\n",
      "tune2_exp_04: SSIM=0.3968 | Weights={'w_color': 0.4, 'w_hog': 0.4, 'w_cnn': 0.2}\n"
     ]
    },
    {
     "name": "stderr",
     "output_type": "stream",
     "text": [
      "Extracting features with combined: 100%|█| 50000/50000 [03:10<00:00, 262.95it/s]\n",
      "Extracting tile features (combined): 100%|█| 17304/17304 [01:15<00:00, 228.31it/\n",
      "Reconstructing mosaic: 100%|███████████| 17304/17304 [00:01<00:00, 15070.67it/s]\n"
     ]
    },
    {
     "name": "stdout",
     "output_type": "stream",
     "text": [
      "Setting up [LPIPS] perceptual loss: trunk [alex], v[0.1], spatial [off]\n"
     ]
    },
    {
     "name": "stderr",
     "output_type": "stream",
     "text": [
      "/opt/anaconda3/lib/python3.12/site-packages/torchvision/models/_utils.py:208: UserWarning: The parameter 'pretrained' is deprecated since 0.13 and may be removed in the future, please use 'weights' instead.\n",
      "  warnings.warn(\n",
      "/opt/anaconda3/lib/python3.12/site-packages/torchvision/models/_utils.py:223: UserWarning: Arguments other than a weight enum or `None` for 'weights' are deprecated since 0.13 and may be removed in the future. The current behavior is equivalent to passing `weights=AlexNet_Weights.IMAGENET1K_V1`. You can also use `weights=AlexNet_Weights.DEFAULT` to get the most up-to-date weights.\n",
      "  warnings.warn(msg)\n"
     ]
    },
    {
     "name": "stdout",
     "output_type": "stream",
     "text": [
      "Loading model from: /opt/anaconda3/lib/python3.12/site-packages/lpips/weights/v0.1/alex.pth\n",
      "tune2_exp_05: SSIM=0.4187 | Weights={'w_cnn': 0.5, 'w_color': 0.3, 'w_edge': 0.2}\n"
     ]
    },
    {
     "name": "stderr",
     "output_type": "stream",
     "text": [
      "Extracting features with combined: 100%|█| 50000/50000 [02:44<00:00, 303.90it/s]\n",
      "Extracting tile features (combined): 100%|█| 17304/17304 [01:12<00:00, 238.01it/\n",
      "Reconstructing mosaic: 100%|███████████| 17304/17304 [00:01<00:00, 16870.46it/s]\n"
     ]
    },
    {
     "name": "stdout",
     "output_type": "stream",
     "text": [
      "Setting up [LPIPS] perceptual loss: trunk [alex], v[0.1], spatial [off]\n"
     ]
    },
    {
     "name": "stderr",
     "output_type": "stream",
     "text": [
      "/opt/anaconda3/lib/python3.12/site-packages/torchvision/models/_utils.py:208: UserWarning: The parameter 'pretrained' is deprecated since 0.13 and may be removed in the future, please use 'weights' instead.\n",
      "  warnings.warn(\n",
      "/opt/anaconda3/lib/python3.12/site-packages/torchvision/models/_utils.py:223: UserWarning: Arguments other than a weight enum or `None` for 'weights' are deprecated since 0.13 and may be removed in the future. The current behavior is equivalent to passing `weights=AlexNet_Weights.IMAGENET1K_V1`. You can also use `weights=AlexNet_Weights.DEFAULT` to get the most up-to-date weights.\n",
      "  warnings.warn(msg)\n"
     ]
    },
    {
     "name": "stdout",
     "output_type": "stream",
     "text": [
      "Loading model from: /opt/anaconda3/lib/python3.12/site-packages/lpips/weights/v0.1/alex.pth\n",
      "tune2_exp_06: SSIM=0.3970 | Weights={'w_color': 0.6, 'w_cnn': 0.4}\n"
     ]
    },
    {
     "name": "stderr",
     "output_type": "stream",
     "text": [
      "Extracting features with combined: 100%|█| 50000/50000 [02:50<00:00, 293.03it/s]\n",
      "Extracting tile features (combined): 100%|█| 17304/17304 [01:12<00:00, 237.38it/\n",
      "Reconstructing mosaic: 100%|███████████| 17304/17304 [00:01<00:00, 16844.33it/s]\n"
     ]
    },
    {
     "name": "stdout",
     "output_type": "stream",
     "text": [
      "Setting up [LPIPS] perceptual loss: trunk [alex], v[0.1], spatial [off]\n"
     ]
    },
    {
     "name": "stderr",
     "output_type": "stream",
     "text": [
      "/opt/anaconda3/lib/python3.12/site-packages/torchvision/models/_utils.py:208: UserWarning: The parameter 'pretrained' is deprecated since 0.13 and may be removed in the future, please use 'weights' instead.\n",
      "  warnings.warn(\n",
      "/opt/anaconda3/lib/python3.12/site-packages/torchvision/models/_utils.py:223: UserWarning: Arguments other than a weight enum or `None` for 'weights' are deprecated since 0.13 and may be removed in the future. The current behavior is equivalent to passing `weights=AlexNet_Weights.IMAGENET1K_V1`. You can also use `weights=AlexNet_Weights.DEFAULT` to get the most up-to-date weights.\n",
      "  warnings.warn(msg)\n"
     ]
    },
    {
     "name": "stdout",
     "output_type": "stream",
     "text": [
      "Loading model from: /opt/anaconda3/lib/python3.12/site-packages/lpips/weights/v0.1/alex.pth\n",
      "tune2_exp_07: SSIM=0.3638 | Weights={'w_cnn': 0.3, 'w_edge': 0.7}\n"
     ]
    },
    {
     "name": "stderr",
     "output_type": "stream",
     "text": [
      "Extracting features with combined: 100%|█| 50000/50000 [03:27<00:00, 240.97it/s]\n",
      "Extracting tile features (combined): 100%|█| 17304/17304 [01:07<00:00, 257.45it/\n",
      "Reconstructing mosaic: 100%|███████████| 17304/17304 [00:01<00:00, 17207.96it/s]\n"
     ]
    },
    {
     "name": "stdout",
     "output_type": "stream",
     "text": [
      "Setting up [LPIPS] perceptual loss: trunk [alex], v[0.1], spatial [off]\n"
     ]
    },
    {
     "name": "stderr",
     "output_type": "stream",
     "text": [
      "/opt/anaconda3/lib/python3.12/site-packages/torchvision/models/_utils.py:208: UserWarning: The parameter 'pretrained' is deprecated since 0.13 and may be removed in the future, please use 'weights' instead.\n",
      "  warnings.warn(\n",
      "/opt/anaconda3/lib/python3.12/site-packages/torchvision/models/_utils.py:223: UserWarning: Arguments other than a weight enum or `None` for 'weights' are deprecated since 0.13 and may be removed in the future. The current behavior is equivalent to passing `weights=AlexNet_Weights.IMAGENET1K_V1`. You can also use `weights=AlexNet_Weights.DEFAULT` to get the most up-to-date weights.\n",
      "  warnings.warn(msg)\n"
     ]
    },
    {
     "name": "stdout",
     "output_type": "stream",
     "text": [
      "Loading model from: /opt/anaconda3/lib/python3.12/site-packages/lpips/weights/v0.1/alex.pth\n",
      "tune2_exp_08: SSIM=0.3800 | Weights={'w_cnn': 0.3, 'w_hog': 0.4, 'w_color': 0.3}\n"
     ]
    }
   ],
   "source": [
    "run_custom_grid(\n",
    "    weights_list=weights_list,\n",
    "    image_path=\"000145.jpg\",\n",
    "    gallery_image_folder=\"resized_tiles\",\n",
    "    tile_size=32,\n",
    "    output_dir=\"results_tuning\"\n",
    ")\n"
   ]
  }
 ],
 "metadata": {
  "kernelspec": {
   "display_name": "Python 3 (ipykernel)",
   "language": "python",
   "name": "python3"
  },
  "language_info": {
   "codemirror_mode": {
    "name": "ipython",
    "version": 3
   },
   "file_extension": ".py",
   "mimetype": "text/x-python",
   "name": "python",
   "nbconvert_exporter": "python",
   "pygments_lexer": "ipython3",
   "version": "3.12.2"
  }
 },
 "nbformat": 4,
 "nbformat_minor": 5
}
